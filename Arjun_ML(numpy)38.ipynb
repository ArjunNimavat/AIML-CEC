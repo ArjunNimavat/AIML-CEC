{
  "metadata": {
    "kernelspec": {
      "name": "python",
      "display_name": "Python (Pyodide)",
      "language": "python"
    },
    "language_info": {
      "codemirror_mode": {
        "name": "python",
        "version": 3
      },
      "file_extension": ".py",
      "mimetype": "text/x-python",
      "name": "python",
      "nbconvert_exporter": "python",
      "pygments_lexer": "ipython3",
      "version": "3.8"
    }
  },
  "nbformat_minor": 5,
  "nbformat": 4,
  "cells": [
    {
      "id": "3640aba7",
      "cell_type": "code",
      "source": "#import numpy\nimport numpy as np",
      "metadata": {
        "trusted": true
      },
      "outputs": [],
      "execution_count": 3
    },
    {
      "id": "8277787b",
      "cell_type": "code",
      "source": "#create array\na=np.array([1,2,3,4,7])\nb=np.array([[2,3,4],[5,6,7]])\nprint(a)\nprint(b)",
      "metadata": {
        "trusted": true
      },
      "outputs": [
        {
          "name": "stdout",
          "text": "[1 2 3 4 7]\n[[2 3 4]\n [5 6 7]]\n",
          "output_type": "stream"
        }
      ],
      "execution_count": 6
    },
    {
      "id": "cd876dbc",
      "cell_type": "code",
      "source": "#shape of array\nprint(\"shape of a is:{}\".format(a.shape)) ",
      "metadata": {
        "trusted": true
      },
      "outputs": [
        {
          "name": "stdout",
          "text": "shape of a is:(5,)\n",
          "output_type": "stream"
        }
      ],
      "execution_count": 7
    },
    {
      "id": "357ea088",
      "cell_type": "code",
      "source": "#dimension of array\nprint(\"dim of array is {}\".format(a.ndim)) ",
      "metadata": {
        "trusted": true
      },
      "outputs": [
        {
          "name": "stdout",
          "text": "dim of array is 1\n",
          "output_type": "stream"
        }
      ],
      "execution_count": 8
    },
    {
      "id": "bc8b2bf9",
      "cell_type": "code",
      "source": "#size of array\nprint(\"size of a is {}\".format(a.size)) ",
      "metadata": {},
      "outputs": [
        {
          "name": "stdout",
          "output_type": "stream",
          "text": [
            "size of a is 5\n"
          ]
        }
      ],
      "execution_count": 6
    },
    {
      "id": "df84a77a",
      "cell_type": "code",
      "source": " #data type of array\nprint(f\"data type of a {a.dtype}\")",
      "metadata": {},
      "outputs": [
        {
          "name": "stdout",
          "output_type": "stream",
          "text": [
            "data type of a int64\n"
          ]
        }
      ],
      "execution_count": 7
    },
    {
      "id": "7be25982",
      "cell_type": "code",
      "source": "#itemsize of array\nprint(f\"itemsize {a.itemsize}\") ",
      "metadata": {},
      "outputs": [
        {
          "name": "stdout",
          "output_type": "stream",
          "text": [
            "itemsize 8\n"
          ]
        }
      ],
      "execution_count": 8
    },
    {
      "id": "67558372",
      "cell_type": "code",
      "source": "#data memory location of array\nprint(f\"data {a.data}\") ",
      "metadata": {},
      "outputs": [
        {
          "name": "stdout",
          "output_type": "stream",
          "text": [
            "data <memory at 0x7fc12087c640>\n"
          ]
        }
      ],
      "execution_count": 9
    },
    {
      "id": "364bbf05",
      "cell_type": "code",
      "source": "#matrix multi of array\na1=np.array([[1,2],[4,5]])\nb1=np.array([[9,8],[6,5]])\nprint(a1)\nprint(b1)\n",
      "metadata": {
        "trusted": true
      },
      "outputs": [
        {
          "name": "stdout",
          "text": "[[1 2]\n [4 5]]\n[[9 8]\n [6 5]]\n",
          "output_type": "stream"
        }
      ],
      "execution_count": 9
    },
    {
      "id": "6d8a12e7",
      "cell_type": "code",
      "source": "#dot multiplication\nmul=np.dot(a1,b1) \nprint(mul)\n\n\n",
      "metadata": {
        "trusted": true
      },
      "outputs": [
        {
          "name": "stdout",
          "text": "[[21 18]\n [66 57]]\n",
          "output_type": "stream"
        }
      ],
      "execution_count": 10
    },
    {
      "id": "f6c279fc",
      "cell_type": "code",
      "source": "#sum of all elements of array\nprint(a.sum()) ",
      "metadata": {
        "trusted": true
      },
      "outputs": [
        {
          "name": "stdout",
          "text": "17\n",
          "output_type": "stream"
        }
      ],
      "execution_count": 11
    },
    {
      "id": "f2a4261d",
      "cell_type": "code",
      "source": "a2=np.array([[1,2,3],[4,5,6]])\nb2=np.array([[9,8,7],[6,5,4]])\nprint(a2)\nprint(b2)\n",
      "metadata": {
        "trusted": true
      },
      "outputs": [
        {
          "name": "stdout",
          "text": "[[1 2 3]\n [4 5 6]]\n[[9 8 7]\n [6 5 4]]\n",
          "output_type": "stream"
        }
      ],
      "execution_count": 12
    },
    {
      "id": "9bd39c13",
      "cell_type": "code",
      "source": "#slice of array\nsliced_arr=a2[1:,1:]\nprint(sliced_arr)\n",
      "metadata": {
        "trusted": true
      },
      "outputs": [
        {
          "name": "stdout",
          "text": "[[5 6]]\n",
          "output_type": "stream"
        }
      ],
      "execution_count": 13
    },
    {
      "id": "e88a35b4",
      "cell_type": "code",
      "source": "# add two array\naddm=np.add(a1,b1)\nprint(addm)",
      "metadata": {
        "trusted": true
      },
      "outputs": [
        {
          "name": "stdout",
          "text": "[[10 10]\n [10 10]]\n",
          "output_type": "stream"
        }
      ],
      "execution_count": 14
    },
    {
      "id": "296978d4",
      "cell_type": "code",
      "source": "# subtract of array\nsubm=np.subtract(a1,b1)\nprint(subm)",
      "metadata": {
        "trusted": true
      },
      "outputs": [
        {
          "name": "stdout",
          "text": "[[-8 -6]\n [-2  0]]\n",
          "output_type": "stream"
        }
      ],
      "execution_count": 15
    },
    {
      "id": "6716a2c4",
      "cell_type": "code",
      "source": "c=np.array([1,2,3,4,5,6,7,8,9,10,11,12,13,14,15,16])\nprint(c)\n",
      "metadata": {
        "trusted": true
      },
      "outputs": [
        {
          "name": "stdout",
          "text": "[ 1  2  3  4  5  6  7  8  9 10 11 12 13 14 15 16]\n",
          "output_type": "stream"
        }
      ],
      "execution_count": 16
    },
    {
      "id": "c56a8dc5",
      "cell_type": "code",
      "source": "# reshape the array of given dimension\nre=c.reshape(4,4)\nprint(re)",
      "metadata": {
        "trusted": true
      },
      "outputs": [
        {
          "name": "stdout",
          "text": "[[ 1  2  3  4]\n [ 5  6  7  8]\n [ 9 10 11 12]\n [13 14 15 16]]\n",
          "output_type": "stream"
        }
      ],
      "execution_count": 17
    },
    {
      "id": "ab468b2d",
      "cell_type": "code",
      "source": "#maximum of array\nprint(\"maximum in c is\",c.max())\n#minimum of array\nprint(\"minimum in c is\",c.min())\n#maximum of array of a row\nprint(\"maximum in row is\",re.max(axis=1))\n#maximum of array of a column\nprint(\"minimum in column is\",re.min(axis=0))\n",
      "metadata": {
        "trusted": true
      },
      "outputs": [
        {
          "name": "stdout",
          "text": "maximum in c is 16\nminimum in c is 1\nmaximum in row is [ 4  8 12 16]\nminimum in column is [1 2 3 4]\n",
          "output_type": "stream"
        }
      ],
      "execution_count": 18
    },
    {
      "id": "2ba389c0",
      "cell_type": "code",
      "source": "d=np.array([[4,8,25],[36,49,64]])\nprint(d)\n\n",
      "metadata": {
        "trusted": true
      },
      "outputs": [
        {
          "name": "stdout",
          "text": "[[ 4  8 25]\n [36 49 64]]\n",
          "output_type": "stream"
        }
      ],
      "execution_count": 19
    },
    {
      "id": "8220597a",
      "cell_type": "code",
      "source": "#square root of all element\nprint(np.sqrt(d))\n# standard deviation\nprint(\"sd\",np.std(d))",
      "metadata": {},
      "outputs": [
        {
          "name": "stdout",
          "output_type": "stream",
          "text": [
            "[[2.         2.82842712 5.        ]\n",
            " [6.         7.         8.        ]]\n",
            "sd 21.33854103103896\n"
          ]
        }
      ],
      "execution_count": 27
    },
    {
      "id": "27a96a39",
      "cell_type": "code",
      "source": "a3=np.array([[2,3],[5,6]])\nprint(a3)\nb3=np.array([[4,8],[9,7]])\nprint(b3)\n\n#merge two array vertically\nv=np.vstack((a3,b3))\nprint(v)\n#merge two array horizontally\nh=np.hstack((a3,b3))\nprint(h)\n#split vertically merged array\nvNew=np.vsplit(v,2)\nprint(vNew)\n#split horizontally merged array\nhNew=np.hsplit(v,2)\nprint(hNew)\n",
      "metadata": {},
      "outputs": [
        {
          "name": "stdout",
          "output_type": "stream",
          "text": [
            "[[2 3]\n",
            " [5 6]]\n",
            "[[4 8]\n",
            " [9 7]]\n",
            "[[2 3]\n",
            " [5 6]\n",
            " [4 8]\n",
            " [9 7]]\n",
            "[[2 3 4 8]\n",
            " [5 6 9 7]]\n",
            "[array([[2, 3],\n",
            "       [5, 6]]), array([[4, 8],\n",
            "       [9, 7]])]\n",
            "[array([[2],\n",
            "       [5],\n",
            "       [4],\n",
            "       [9]]), array([[3],\n",
            "       [6],\n",
            "       [8],\n",
            "       [7]])]\n"
          ]
        }
      ],
      "execution_count": 41
    },
    {
      "id": "b52790a5",
      "cell_type": "code",
      "source": "#function that print array from 1 to 20 with gap of 2\narr=np.arange(1,20,2)\nprint(arr)",
      "metadata": {},
      "outputs": [
        {
          "name": "stdout",
          "output_type": "stream",
          "text": [
            "[ 1  3  5  7  9 11 13 15 17 19]\n"
          ]
        }
      ],
      "execution_count": 35
    },
    {
      "id": "60b69320",
      "cell_type": "code",
      "source": "#return range as per given value\narr1=np.arange(0,100,5)\nprint(arr1)\n",
      "metadata": {},
      "outputs": [
        {
          "name": "stdout",
          "output_type": "stream",
          "text": [
            "[ 0  5 10 15 20 25 30 35 40 45 50 55 60 65 70 75 80 85 90 95]\n"
          ]
        }
      ],
      "execution_count": 36
    },
    {
      "id": "f939b4ca",
      "cell_type": "code",
      "source": "#function that print array with line space between each other\narr2=np.linspace(0,20,5)\nprint(arr2)\nprint(arr2.dtype)",
      "metadata": {},
      "outputs": [
        {
          "name": "stdout",
          "output_type": "stream",
          "text": [
            "[ 0.  5. 10. 15. 20.]\n",
            "float64\n"
          ]
        }
      ],
      "execution_count": 37
    },
    {
      "id": "3adfce3d",
      "cell_type": "code",
      "source": "#return transpose of array\nar=np.array([[25,64,34],[89,36,89]])\nprint(ar)\ndt=ar.T\nprint(dt)",
      "metadata": {},
      "outputs": [
        {
          "name": "stdout",
          "output_type": "stream",
          "text": [
            "[[25 64 34]\n",
            " [89 36 89]]\n",
            "[[25 89]\n",
            " [64 36]\n",
            " [34 89]]\n"
          ]
        }
      ],
      "execution_count": 45
    },
    {
      "id": "335e96f0",
      "cell_type": "code",
      "source": "#itterate all element one by one\nfor i in np.nditer(dt): \n    print(\"element\",i)",
      "metadata": {},
      "outputs": [
        {
          "name": "stdout",
          "output_type": "stream",
          "text": [
            "element 25\n",
            "element 64\n",
            "element 34\n",
            "element 89\n",
            "element 36\n",
            "element 89\n"
          ]
        }
      ],
      "execution_count": 46
    },
    {
      "id": "d0af09fc",
      "cell_type": "code",
      "source": "Fun=np.array([32,43,87,90])\nprint(Fun)",
      "metadata": {},
      "outputs": [
        {
          "name": "stdout",
          "output_type": "stream",
          "text": [
            "[32 43 87 90]\n"
          ]
        }
      ],
      "execution_count": 47
    },
    {
      "id": "d382fbdf",
      "cell_type": "code",
      "source": "#square root of element\nprint(\"Square root : \",np.sqrt(Fun))",
      "metadata": {},
      "outputs": [
        {
          "name": "stdout",
          "output_type": "stream",
          "text": [
            "Square root :  [5.65685425 6.55743852 9.32737905 9.48683298]\n"
          ]
        }
      ],
      "execution_count": 59
    },
    {
      "id": "eac801a3",
      "cell_type": "code",
      "source": "#Returns the standard deviation of in the array\nprint(\"Standard Deviation: \",np.std(arr))     ",
      "metadata": {},
      "outputs": [
        {
          "name": "stdout",
          "output_type": "stream",
          "text": [
            "Standard Deviation:  5.744562646538029\n"
          ]
        }
      ],
      "execution_count": 61
    },
    {
      "id": "0c0ff4ee",
      "cell_type": "code",
      "source": "#exponentials of element\nprint(\"Exponentials: \",np.exp(Fun))     ",
      "metadata": {},
      "outputs": [
        {
          "name": "stdout",
          "output_type": "stream",
          "text": [
            "Exponentials:  [7.89629602e+13 4.72783947e+18 6.07603023e+37 1.22040329e+39]\n"
          ]
        }
      ],
      "execution_count": 57
    },
    {
      "id": "627d26d0",
      "cell_type": "code",
      "source": " # sum of all elements in the array\nprint(\"Sum of all element in array: \",np.sum(Fun))    ",
      "metadata": {},
      "outputs": [
        {
          "name": "stdout",
          "output_type": "stream",
          "text": [
            "Sum of all element in array:  252\n"
          ]
        }
      ],
      "execution_count": 53
    },
    {
      "id": "fd1c0af7",
      "cell_type": "code",
      "source": " #Returns  sin of each element\nprint(\"Sin of each element: \",np.sin(Fun))    ",
      "metadata": {},
      "outputs": [
        {
          "name": "stdout",
          "output_type": "stream",
          "text": [
            "Sin of each element:  [ 0.55142668 -0.83177474 -0.82181784  0.89399666]\n"
          ]
        }
      ],
      "execution_count": 54
    },
    {
      "id": "754a46c7",
      "cell_type": "code",
      "source": "#Returns the cosine of each element\nprint(\"Cos of each element: \",np.cos(Fun))     ",
      "metadata": {},
      "outputs": [
        {
          "name": "stdout",
          "output_type": "stream",
          "text": [
            "Cos of each element:  [ 0.83422336  0.5551133   0.56975033 -0.44807362]\n"
          ]
        }
      ],
      "execution_count": 55
    },
    {
      "id": "9b7bea42",
      "cell_type": "code",
      "source": "#Returns the logarithm of each element\nprint(\"Log: \",np.log(Fun))     ",
      "metadata": {},
      "outputs": [
        {
          "name": "stdout",
          "output_type": "stream",
          "text": [
            "Log:  [3.4657359  3.76120012 4.46590812 4.49980967]\n"
          ]
        }
      ],
      "execution_count": 62
    },
    {
      "id": "58290e6c",
      "cell_type": "code",
      "source": "from scipy import stats as st\nprint(\"Mean:\",np.mean(Fun))",
      "metadata": {},
      "outputs": [
        {
          "name": "stdout",
          "output_type": "stream",
          "text": [
            "Mean: 63.0\n"
          ]
        }
      ],
      "execution_count": 64
    },
    {
      "id": "9a5a9f50",
      "cell_type": "code",
      "source": "#median of array\nprint(\"Median:\",np.median(Fun))",
      "metadata": {},
      "outputs": [
        {
          "name": "stdout",
          "output_type": "stream",
          "text": [
            "Median: 65.0\n"
          ]
        }
      ],
      "execution_count": 66
    },
    {
      "id": "5bf1f461",
      "cell_type": "code",
      "source": "#mode of array\nFun1=np.array([90,90,32,43,87,90])\nprint(Fun1)\nprint(\"Mode:\",st.mode(Fun1))",
      "metadata": {},
      "outputs": [
        {
          "name": "stdout",
          "output_type": "stream",
          "text": [
            "[90 90 32 43 87 90]\n",
            "Mode: ModeResult(mode=array([90]), count=array([3]))\n"
          ]
        }
      ],
      "execution_count": 70
    },
    {
      "id": "382f502b",
      "cell_type": "code",
      "source": "",
      "metadata": {},
      "outputs": [],
      "execution_count": null
    }
  ]
}